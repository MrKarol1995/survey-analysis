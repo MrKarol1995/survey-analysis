{
 "cells": [
  {
   "cell_type": "markdown",
   "metadata": {},
   "source": [
    "# LISTA 1"
   ]
  },
  {
   "cell_type": "markdown",
   "metadata": {},
   "source": [
    "## CZĘŚĆ 1"
   ]
  },
  {
   "cell_type": "markdown",
   "metadata": {},
   "source": [
    "3.12.8"
   ]
  },
  {
   "cell_type": "code",
   "execution_count": 3,
   "metadata": {},
   "outputs": [],
   "source": [
    "import pandas as pd\n",
    "\n",
    "df = pd.read_csv('ankieta.csv', encoding='Latin2', sep=\";\")"
   ]
  },
  {
   "cell_type": "code",
   "execution_count": 4,
   "metadata": {},
   "outputs": [
    {
     "name": "stdout",
     "output_type": "stream",
     "text": [
      "<class 'pandas.core.frame.DataFrame'>\n",
      "RangeIndex: 200 entries, 0 to 199\n",
      "Data columns (total 8 columns):\n",
      " #   Column    Non-Null Count  Dtype \n",
      "---  ------    --------------  ----- \n",
      " 0   DZIAŁ     200 non-null    object\n",
      " 1   STAŻ      200 non-null    int64 \n",
      " 2   CZY_KIER  200 non-null    object\n",
      " 3   PYT_1     200 non-null    int64 \n",
      " 4   PYT_2     200 non-null    int64 \n",
      " 5   PYT_3     200 non-null    int64 \n",
      " 6   PŁEĆ      200 non-null    object\n",
      " 7   WIEK      200 non-null    int64 \n",
      "dtypes: int64(5), object(3)\n",
      "memory usage: 12.6+ KB\n"
     ]
    }
   ],
   "source": [
    "df.info()"
   ]
  },
  {
   "cell_type": "code",
   "execution_count": 5,
   "metadata": {},
   "outputs": [],
   "source": [
    "df.loc[df['WIEK'] <= 35, 'WIEK_KAT'] = '< 36'\n",
    "df.loc[(df['WIEK'] >= 36) & (df['WIEK'] <= 45), 'WIEK_KAT'] = 'od 36 do 45'\n",
    "df.loc[(df['WIEK'] >= 46) & (df['WIEK'] <= 55), 'WIEK_KAT'] = 'od 46 do 55'\n",
    "df.loc[df['WIEK'] > 55, 'WIEK_KAT'] = '55 <'"
   ]
  },
  {
   "cell_type": "code",
   "execution_count": 6,
   "metadata": {},
   "outputs": [
    {
     "data": {
      "text/html": [
       "<div>\n",
       "<style scoped>\n",
       "    .dataframe tbody tr th:only-of-type {\n",
       "        vertical-align: middle;\n",
       "    }\n",
       "\n",
       "    .dataframe tbody tr th {\n",
       "        vertical-align: top;\n",
       "    }\n",
       "\n",
       "    .dataframe thead th {\n",
       "        text-align: right;\n",
       "    }\n",
       "</style>\n",
       "<table border=\"1\" class=\"dataframe\">\n",
       "  <thead>\n",
       "    <tr style=\"text-align: right;\">\n",
       "      <th></th>\n",
       "      <th>DZIAŁ</th>\n",
       "      <th>STAŻ</th>\n",
       "      <th>CZY_KIER</th>\n",
       "      <th>PYT_1</th>\n",
       "      <th>PYT_2</th>\n",
       "      <th>PYT_3</th>\n",
       "      <th>PŁEĆ</th>\n",
       "      <th>WIEK</th>\n",
       "      <th>WIEK_KAT</th>\n",
       "    </tr>\n",
       "  </thead>\n",
       "  <tbody>\n",
       "    <tr>\n",
       "      <th>0</th>\n",
       "      <td>IT</td>\n",
       "      <td>2</td>\n",
       "      <td>Nie</td>\n",
       "      <td>1</td>\n",
       "      <td>-2</td>\n",
       "      <td>1</td>\n",
       "      <td>M</td>\n",
       "      <td>64</td>\n",
       "      <td>55 &lt;</td>\n",
       "    </tr>\n",
       "    <tr>\n",
       "      <th>1</th>\n",
       "      <td>IT</td>\n",
       "      <td>2</td>\n",
       "      <td>Nie</td>\n",
       "      <td>0</td>\n",
       "      <td>-2</td>\n",
       "      <td>-2</td>\n",
       "      <td>M</td>\n",
       "      <td>67</td>\n",
       "      <td>55 &lt;</td>\n",
       "    </tr>\n",
       "    <tr>\n",
       "      <th>2</th>\n",
       "      <td>IT</td>\n",
       "      <td>2</td>\n",
       "      <td>Nie</td>\n",
       "      <td>1</td>\n",
       "      <td>2</td>\n",
       "      <td>2</td>\n",
       "      <td>M</td>\n",
       "      <td>65</td>\n",
       "      <td>55 &lt;</td>\n",
       "    </tr>\n",
       "    <tr>\n",
       "      <th>3</th>\n",
       "      <td>IT</td>\n",
       "      <td>2</td>\n",
       "      <td>Nie</td>\n",
       "      <td>-1</td>\n",
       "      <td>-2</td>\n",
       "      <td>-2</td>\n",
       "      <td>K</td>\n",
       "      <td>68</td>\n",
       "      <td>55 &lt;</td>\n",
       "    </tr>\n",
       "    <tr>\n",
       "      <th>4</th>\n",
       "      <td>IT</td>\n",
       "      <td>3</td>\n",
       "      <td>Tak</td>\n",
       "      <td>1</td>\n",
       "      <td>2</td>\n",
       "      <td>-1</td>\n",
       "      <td>K</td>\n",
       "      <td>65</td>\n",
       "      <td>55 &lt;</td>\n",
       "    </tr>\n",
       "    <tr>\n",
       "      <th>...</th>\n",
       "      <td>...</td>\n",
       "      <td>...</td>\n",
       "      <td>...</td>\n",
       "      <td>...</td>\n",
       "      <td>...</td>\n",
       "      <td>...</td>\n",
       "      <td>...</td>\n",
       "      <td>...</td>\n",
       "      <td>...</td>\n",
       "    </tr>\n",
       "    <tr>\n",
       "      <th>195</th>\n",
       "      <td>HR</td>\n",
       "      <td>2</td>\n",
       "      <td>Nie</td>\n",
       "      <td>1</td>\n",
       "      <td>2</td>\n",
       "      <td>2</td>\n",
       "      <td>M</td>\n",
       "      <td>42</td>\n",
       "      <td>od 36 do 45</td>\n",
       "    </tr>\n",
       "    <tr>\n",
       "      <th>196</th>\n",
       "      <td>HR</td>\n",
       "      <td>2</td>\n",
       "      <td>Nie</td>\n",
       "      <td>1</td>\n",
       "      <td>-1</td>\n",
       "      <td>-1</td>\n",
       "      <td>K</td>\n",
       "      <td>35</td>\n",
       "      <td>&lt; 36</td>\n",
       "    </tr>\n",
       "    <tr>\n",
       "      <th>197</th>\n",
       "      <td>HR</td>\n",
       "      <td>2</td>\n",
       "      <td>Nie</td>\n",
       "      <td>-1</td>\n",
       "      <td>-2</td>\n",
       "      <td>-2</td>\n",
       "      <td>K</td>\n",
       "      <td>39</td>\n",
       "      <td>od 36 do 45</td>\n",
       "    </tr>\n",
       "    <tr>\n",
       "      <th>198</th>\n",
       "      <td>HR</td>\n",
       "      <td>2</td>\n",
       "      <td>Nie</td>\n",
       "      <td>1</td>\n",
       "      <td>2</td>\n",
       "      <td>1</td>\n",
       "      <td>K</td>\n",
       "      <td>48</td>\n",
       "      <td>od 46 do 55</td>\n",
       "    </tr>\n",
       "    <tr>\n",
       "      <th>199</th>\n",
       "      <td>HR</td>\n",
       "      <td>2</td>\n",
       "      <td>Nie</td>\n",
       "      <td>1</td>\n",
       "      <td>2</td>\n",
       "      <td>2</td>\n",
       "      <td>K</td>\n",
       "      <td>42</td>\n",
       "      <td>od 36 do 45</td>\n",
       "    </tr>\n",
       "  </tbody>\n",
       "</table>\n",
       "<p>200 rows × 9 columns</p>\n",
       "</div>"
      ],
      "text/plain": [
       "    DZIAŁ  STAŻ CZY_KIER  PYT_1  PYT_2  PYT_3 PŁEĆ  WIEK     WIEK_KAT\n",
       "0      IT     2      Nie      1     -2      1    M    64         55 <\n",
       "1      IT     2      Nie      0     -2     -2    M    67         55 <\n",
       "2      IT     2      Nie      1      2      2    M    65         55 <\n",
       "3      IT     2      Nie     -1     -2     -2    K    68         55 <\n",
       "4      IT     3      Tak      1      2     -1    K    65         55 <\n",
       "..    ...   ...      ...    ...    ...    ...  ...   ...          ...\n",
       "195    HR     2      Nie      1      2      2    M    42  od 36 do 45\n",
       "196    HR     2      Nie      1     -1     -1    K    35         < 36\n",
       "197    HR     2      Nie     -1     -2     -2    K    39  od 36 do 45\n",
       "198    HR     2      Nie      1      2      1    K    48  od 46 do 55\n",
       "199    HR     2      Nie      1      2      2    K    42  od 36 do 45\n",
       "\n",
       "[200 rows x 9 columns]"
      ]
     },
     "execution_count": 6,
     "metadata": {},
     "output_type": "execute_result"
    }
   ],
   "source": [
    "df"
   ]
  },
  {
   "cell_type": "code",
   "execution_count": 7,
   "metadata": {},
   "outputs": [
    {
     "name": "stdout",
     "output_type": "stream",
     "text": [
      "DZIAŁ\n",
      "PD    98\n",
      "MK    45\n",
      "HR    31\n",
      "IT    26\n",
      "Name: count, dtype: int64\n"
     ]
    }
   ],
   "source": [
    "table_dzial = df['DZIAŁ'].value_counts()\n",
    "print(table_dzial)\n"
   ]
  },
  {
   "cell_type": "code",
   "execution_count": 8,
   "metadata": {},
   "outputs": [
    {
     "name": "stdout",
     "output_type": "stream",
     "text": [
      "STAŻ\n",
      "2    140\n",
      "1     41\n",
      "3     19\n",
      "Name: count, dtype: int64\n"
     ]
    }
   ],
   "source": [
    "table_staz = df['STAŻ'].value_counts()\n",
    "print(table_staz)\n"
   ]
  },
  {
   "cell_type": "code",
   "execution_count": 9,
   "metadata": {},
   "outputs": [
    {
     "name": "stdout",
     "output_type": "stream",
     "text": [
      "CZY_KIER\n",
      "Nie    173\n",
      "Tak     27\n",
      "Name: count, dtype: int64\n"
     ]
    }
   ],
   "source": [
    "table_czykier = df['CZY_KIER'].value_counts()\n",
    "print(table_czykier)\n"
   ]
  },
  {
   "cell_type": "code",
   "execution_count": 10,
   "metadata": {},
   "outputs": [
    {
     "name": "stdout",
     "output_type": "stream",
     "text": [
      "PŁEĆ\n",
      "M    129\n",
      "K     71\n",
      "Name: count, dtype: int64\n"
     ]
    }
   ],
   "source": [
    "table_plec = df['PŁEĆ'].value_counts()\n",
    "print(table_plec)\n"
   ]
  },
  {
   "cell_type": "code",
   "execution_count": 11,
   "metadata": {},
   "outputs": [
    {
     "name": "stdout",
     "output_type": "stream",
     "text": [
      "WIEK_KAT\n",
      "od 36 do 45    104\n",
      "od 46 do 55     45\n",
      "< 36            26\n",
      "55 <            25\n",
      "Name: count, dtype: int64\n"
     ]
    }
   ],
   "source": [
    "table_wiekkat = df['WIEK_KAT'].value_counts()\n",
    "print(table_wiekkat)\n"
   ]
  },
  {
   "cell_type": "code",
   "execution_count": 12,
   "metadata": {},
   "outputs": [
    {
     "data": {
      "image/png": "[encoded data removed]",
      "text/plain": [
       "<Figure size 800x800 with 2 Axes>"
      ]
     },
     "metadata": {},
     "output_type": "display_data"
    }
   ],
   "source": [
    "import matplotlib.pyplot as plt\n",
    "plt.figure(figsize=(8,8))\n",
    "\n",
    "table_pyt1 = df['PYT_1'].value_counts()\n",
    "table_pyt2 = df['PYT_2'].value_counts()\n",
    "\n",
    "plt.subplot(1,2,1)\n",
    "plt.pie(table_pyt1, labels=table_pyt1.index, autopct='%1.1f%%', startangle=90)\n",
    "plt.title('Wykres kołowy dla kolumny \"PYT_1\"')\n",
    "\n",
    "plt.subplot(1,2,2)\n",
    "plt.pie(table_pyt2, labels=table_pyt2.index, autopct='%1.1f%%', startangle=90)\n",
    "plt.title('Wykres kołowy dla kolumny \"PYT_2\"')\n",
    "\n",
    "plt.tight_layout()\n",
    "plt.show()\n",
    "\n"
   ]
  },
  {
   "cell_type": "code",
   "execution_count": 13,
   "metadata": {},
   "outputs": [
    {
     "data": {
      "image/png": "[encoded data removed]",
      "text/plain": [
       "<Figure size 1000x500 with 2 Axes>"
      ]
     },
     "metadata": {},
     "output_type": "display_data"
    }
   ],
   "source": [
    "plt.figure(figsize=(10, 5))\n",
    "\n",
    "plt.subplot(1,2,1)\n",
    "plt.bar(table_pyt1.index, table_pyt1)\n",
    "plt.title('Wykres słupkowy dla kolumny \"PYT_1\"')\n",
    "\n",
    "plt.subplot(1,2,2)\n",
    "plt.bar(table_pyt2.index, table_pyt2)\n",
    "plt.title('Wykres słupkowy dla kolumny \"PYT_2\"')\n",
    "\n",
    "plt.tight_layout()\n",
    "plt.show()"
   ]
  },
  {
   "cell_type": "code",
   "execution_count": 14,
   "metadata": {},
   "outputs": [
    {
     "data": {
      "text/html": [
       "<div>\n",
       "<style scoped>\n",
       "    .dataframe tbody tr th:only-of-type {\n",
       "        vertical-align: middle;\n",
       "    }\n",
       "\n",
       "    .dataframe tbody tr th {\n",
       "        vertical-align: top;\n",
       "    }\n",
       "\n",
       "    .dataframe thead th {\n",
       "        text-align: right;\n",
       "    }\n",
       "</style>\n",
       "<table border=\"1\" class=\"dataframe\">\n",
       "  <thead>\n",
       "    <tr style=\"text-align: right;\">\n",
       "      <th>DZIAŁ</th>\n",
       "      <th>HR</th>\n",
       "      <th>IT</th>\n",
       "      <th>MK</th>\n",
       "      <th>PD</th>\n",
       "    </tr>\n",
       "    <tr>\n",
       "      <th>PYT_1</th>\n",
       "      <th></th>\n",
       "      <th></th>\n",
       "      <th></th>\n",
       "      <th></th>\n",
       "    </tr>\n",
       "  </thead>\n",
       "  <tbody>\n",
       "    <tr>\n",
       "      <th>-2</th>\n",
       "      <td>2</td>\n",
       "      <td>0</td>\n",
       "      <td>3</td>\n",
       "      <td>9</td>\n",
       "    </tr>\n",
       "    <tr>\n",
       "      <th>-1</th>\n",
       "      <td>2</td>\n",
       "      <td>2</td>\n",
       "      <td>3</td>\n",
       "      <td>10</td>\n",
       "    </tr>\n",
       "    <tr>\n",
       "      <th>0</th>\n",
       "      <td>5</td>\n",
       "      <td>4</td>\n",
       "      <td>14</td>\n",
       "      <td>17</td>\n",
       "    </tr>\n",
       "    <tr>\n",
       "      <th>1</th>\n",
       "      <td>19</td>\n",
       "      <td>15</td>\n",
       "      <td>15</td>\n",
       "      <td>51</td>\n",
       "    </tr>\n",
       "    <tr>\n",
       "      <th>2</th>\n",
       "      <td>3</td>\n",
       "      <td>5</td>\n",
       "      <td>10</td>\n",
       "      <td>11</td>\n",
       "    </tr>\n",
       "  </tbody>\n",
       "</table>\n",
       "</div>"
      ],
      "text/plain": [
       "DZIAŁ  HR  IT  MK  PD\n",
       "PYT_1                \n",
       "-2      2   0   3   9\n",
       "-1      2   2   3  10\n",
       " 0      5   4  14  17\n",
       " 1     19  15  15  51\n",
       " 2      3   5  10  11"
      ]
     },
     "execution_count": 14,
     "metadata": {},
     "output_type": "execute_result"
    }
   ],
   "source": [
    "crosstab1 = pd.crosstab(df['PYT_1'], \n",
    "                            df['DZIAŁ'],  \n",
    "                               margins = False) \n",
    "crosstab1"
   ]
  },
  {
   "cell_type": "code",
   "execution_count": 15,
   "metadata": {},
   "outputs": [
    {
     "data": {
      "text/html": [
       "<div>\n",
       "<style scoped>\n",
       "    .dataframe tbody tr th:only-of-type {\n",
       "        vertical-align: middle;\n",
       "    }\n",
       "\n",
       "    .dataframe tbody tr th {\n",
       "        vertical-align: top;\n",
       "    }\n",
       "\n",
       "    .dataframe thead th {\n",
       "        text-align: right;\n",
       "    }\n",
       "</style>\n",
       "<table border=\"1\" class=\"dataframe\">\n",
       "  <thead>\n",
       "    <tr style=\"text-align: right;\">\n",
       "      <th>STAŻ</th>\n",
       "      <th>1</th>\n",
       "      <th>2</th>\n",
       "      <th>3</th>\n",
       "    </tr>\n",
       "    <tr>\n",
       "      <th>PYT_1</th>\n",
       "      <th></th>\n",
       "      <th></th>\n",
       "      <th></th>\n",
       "    </tr>\n",
       "  </thead>\n",
       "  <tbody>\n",
       "    <tr>\n",
       "      <th>-2</th>\n",
       "      <td>5</td>\n",
       "      <td>5</td>\n",
       "      <td>4</td>\n",
       "    </tr>\n",
       "    <tr>\n",
       "      <th>-1</th>\n",
       "      <td>6</td>\n",
       "      <td>10</td>\n",
       "      <td>1</td>\n",
       "    </tr>\n",
       "    <tr>\n",
       "      <th>0</th>\n",
       "      <td>8</td>\n",
       "      <td>26</td>\n",
       "      <td>6</td>\n",
       "    </tr>\n",
       "    <tr>\n",
       "      <th>1</th>\n",
       "      <td>19</td>\n",
       "      <td>75</td>\n",
       "      <td>6</td>\n",
       "    </tr>\n",
       "    <tr>\n",
       "      <th>2</th>\n",
       "      <td>3</td>\n",
       "      <td>24</td>\n",
       "      <td>2</td>\n",
       "    </tr>\n",
       "  </tbody>\n",
       "</table>\n",
       "</div>"
      ],
      "text/plain": [
       "STAŻ    1   2  3\n",
       "PYT_1           \n",
       "-2      5   5  4\n",
       "-1      6  10  1\n",
       " 0      8  26  6\n",
       " 1     19  75  6\n",
       " 2      3  24  2"
      ]
     },
     "execution_count": 15,
     "metadata": {},
     "output_type": "execute_result"
    }
   ],
   "source": [
    "crosstab2 = pd.crosstab(df['PYT_1'], \n",
    "                            df['STAŻ'],  \n",
    "                               margins = False) \n",
    "crosstab2"
   ]
  },
  {
   "cell_type": "code",
   "execution_count": 16,
   "metadata": {},
   "outputs": [
    {
     "data": {
      "text/html": [
       "<div>\n",
       "<style scoped>\n",
       "    .dataframe tbody tr th:only-of-type {\n",
       "        vertical-align: middle;\n",
       "    }\n",
       "\n",
       "    .dataframe tbody tr th {\n",
       "        vertical-align: top;\n",
       "    }\n",
       "\n",
       "    .dataframe thead th {\n",
       "        text-align: right;\n",
       "    }\n",
       "</style>\n",
       "<table border=\"1\" class=\"dataframe\">\n",
       "  <thead>\n",
       "    <tr style=\"text-align: right;\">\n",
       "      <th>CZY_KIER</th>\n",
       "      <th>Nie</th>\n",
       "      <th>Tak</th>\n",
       "    </tr>\n",
       "    <tr>\n",
       "      <th>PYT_1</th>\n",
       "      <th></th>\n",
       "      <th></th>\n",
       "    </tr>\n",
       "  </thead>\n",
       "  <tbody>\n",
       "    <tr>\n",
       "      <th>-2</th>\n",
       "      <td>10</td>\n",
       "      <td>4</td>\n",
       "    </tr>\n",
       "    <tr>\n",
       "      <th>-1</th>\n",
       "      <td>14</td>\n",
       "      <td>3</td>\n",
       "    </tr>\n",
       "    <tr>\n",
       "      <th>0</th>\n",
       "      <td>34</td>\n",
       "      <td>6</td>\n",
       "    </tr>\n",
       "    <tr>\n",
       "      <th>1</th>\n",
       "      <td>88</td>\n",
       "      <td>12</td>\n",
       "    </tr>\n",
       "    <tr>\n",
       "      <th>2</th>\n",
       "      <td>27</td>\n",
       "      <td>2</td>\n",
       "    </tr>\n",
       "  </tbody>\n",
       "</table>\n",
       "</div>"
      ],
      "text/plain": [
       "CZY_KIER  Nie  Tak\n",
       "PYT_1             \n",
       "-2         10    4\n",
       "-1         14    3\n",
       " 0         34    6\n",
       " 1         88   12\n",
       " 2         27    2"
      ]
     },
     "execution_count": 16,
     "metadata": {},
     "output_type": "execute_result"
    }
   ],
   "source": [
    "crosstab3 = pd.crosstab(df['PYT_1'], \n",
    "                            df['CZY_KIER'],  \n",
    "                               margins = False) \n",
    "crosstab3 "
   ]
  },
  {
   "cell_type": "code",
   "execution_count": 17,
   "metadata": {},
   "outputs": [
    {
     "data": {
      "text/html": [
       "<div>\n",
       "<style scoped>\n",
       "    .dataframe tbody tr th:only-of-type {\n",
       "        vertical-align: middle;\n",
       "    }\n",
       "\n",
       "    .dataframe tbody tr th {\n",
       "        vertical-align: top;\n",
       "    }\n",
       "\n",
       "    .dataframe thead th {\n",
       "        text-align: right;\n",
       "    }\n",
       "</style>\n",
       "<table border=\"1\" class=\"dataframe\">\n",
       "  <thead>\n",
       "    <tr style=\"text-align: right;\">\n",
       "      <th>PŁEĆ</th>\n",
       "      <th>K</th>\n",
       "      <th>M</th>\n",
       "    </tr>\n",
       "    <tr>\n",
       "      <th>PYT_1</th>\n",
       "      <th></th>\n",
       "      <th></th>\n",
       "    </tr>\n",
       "  </thead>\n",
       "  <tbody>\n",
       "    <tr>\n",
       "      <th>-2</th>\n",
       "      <td>3</td>\n",
       "      <td>11</td>\n",
       "    </tr>\n",
       "    <tr>\n",
       "      <th>-1</th>\n",
       "      <td>7</td>\n",
       "      <td>10</td>\n",
       "    </tr>\n",
       "    <tr>\n",
       "      <th>0</th>\n",
       "      <td>14</td>\n",
       "      <td>26</td>\n",
       "    </tr>\n",
       "    <tr>\n",
       "      <th>1</th>\n",
       "      <td>36</td>\n",
       "      <td>64</td>\n",
       "    </tr>\n",
       "    <tr>\n",
       "      <th>2</th>\n",
       "      <td>11</td>\n",
       "      <td>18</td>\n",
       "    </tr>\n",
       "  </tbody>\n",
       "</table>\n",
       "</div>"
      ],
      "text/plain": [
       "PŁEĆ    K   M\n",
       "PYT_1        \n",
       "-2      3  11\n",
       "-1      7  10\n",
       " 0     14  26\n",
       " 1     36  64\n",
       " 2     11  18"
      ]
     },
     "execution_count": 17,
     "metadata": {},
     "output_type": "execute_result"
    }
   ],
   "source": [
    "crosstab4 = pd.crosstab(df['PYT_1'], \n",
    "                            df['PŁEĆ'],  \n",
    "                               margins = False) \n",
    "crosstab4"
   ]
  },
  {
   "cell_type": "code",
   "execution_count": 18,
   "metadata": {},
   "outputs": [
    {
     "data": {
      "text/html": [
       "<div>\n",
       "<style scoped>\n",
       "    .dataframe tbody tr th:only-of-type {\n",
       "        vertical-align: middle;\n",
       "    }\n",
       "\n",
       "    .dataframe tbody tr th {\n",
       "        vertical-align: top;\n",
       "    }\n",
       "\n",
       "    .dataframe thead th {\n",
       "        text-align: right;\n",
       "    }\n",
       "</style>\n",
       "<table border=\"1\" class=\"dataframe\">\n",
       "  <thead>\n",
       "    <tr style=\"text-align: right;\">\n",
       "      <th>WIEK_KAT</th>\n",
       "      <th>55 &lt;</th>\n",
       "      <th>&lt; 36</th>\n",
       "      <th>od 36 do 45</th>\n",
       "      <th>od 46 do 55</th>\n",
       "    </tr>\n",
       "    <tr>\n",
       "      <th>PYT_1</th>\n",
       "      <th></th>\n",
       "      <th></th>\n",
       "      <th></th>\n",
       "      <th></th>\n",
       "    </tr>\n",
       "  </thead>\n",
       "  <tbody>\n",
       "    <tr>\n",
       "      <th>-2</th>\n",
       "      <td>0</td>\n",
       "      <td>1</td>\n",
       "      <td>11</td>\n",
       "      <td>2</td>\n",
       "    </tr>\n",
       "    <tr>\n",
       "      <th>-1</th>\n",
       "      <td>3</td>\n",
       "      <td>6</td>\n",
       "      <td>7</td>\n",
       "      <td>1</td>\n",
       "    </tr>\n",
       "    <tr>\n",
       "      <th>0</th>\n",
       "      <td>8</td>\n",
       "      <td>3</td>\n",
       "      <td>24</td>\n",
       "      <td>5</td>\n",
       "    </tr>\n",
       "    <tr>\n",
       "      <th>1</th>\n",
       "      <td>12</td>\n",
       "      <td>13</td>\n",
       "      <td>50</td>\n",
       "      <td>25</td>\n",
       "    </tr>\n",
       "    <tr>\n",
       "      <th>2</th>\n",
       "      <td>2</td>\n",
       "      <td>3</td>\n",
       "      <td>12</td>\n",
       "      <td>12</td>\n",
       "    </tr>\n",
       "  </tbody>\n",
       "</table>\n",
       "</div>"
      ],
      "text/plain": [
       "WIEK_KAT  55 <  < 36  od 36 do 45  od 46 do 55\n",
       "PYT_1                                         \n",
       "-2           0     1           11            2\n",
       "-1           3     6            7            1\n",
       " 0           8     3           24            5\n",
       " 1          12    13           50           25\n",
       " 2           2     3           12           12"
      ]
     },
     "execution_count": 18,
     "metadata": {},
     "output_type": "execute_result"
    }
   ],
   "source": [
    "crosstab5 = pd.crosstab(df['PYT_1'], \n",
    "                            df['WIEK_KAT'],  \n",
    "                               margins = False) \n",
    "crosstab5"
   ]
  },
  {
   "cell_type": "code",
   "execution_count": 19,
   "metadata": {},
   "outputs": [
    {
     "data": {
      "text/html": [
       "<div>\n",
       "<style scoped>\n",
       "    .dataframe tbody tr th:only-of-type {\n",
       "        vertical-align: middle;\n",
       "    }\n",
       "\n",
       "    .dataframe tbody tr th {\n",
       "        vertical-align: top;\n",
       "    }\n",
       "\n",
       "    .dataframe thead th {\n",
       "        text-align: right;\n",
       "    }\n",
       "</style>\n",
       "<table border=\"1\" class=\"dataframe\">\n",
       "  <thead>\n",
       "    <tr style=\"text-align: right;\">\n",
       "      <th>PYT_2</th>\n",
       "      <th>-2</th>\n",
       "      <th>-1</th>\n",
       "      <th>1</th>\n",
       "      <th>2</th>\n",
       "    </tr>\n",
       "    <tr>\n",
       "      <th>PYT_1</th>\n",
       "      <th></th>\n",
       "      <th></th>\n",
       "      <th></th>\n",
       "      <th></th>\n",
       "    </tr>\n",
       "  </thead>\n",
       "  <tbody>\n",
       "    <tr>\n",
       "      <th>-2</th>\n",
       "      <td>13</td>\n",
       "      <td>0</td>\n",
       "      <td>1</td>\n",
       "      <td>0</td>\n",
       "    </tr>\n",
       "    <tr>\n",
       "      <th>-1</th>\n",
       "      <td>16</td>\n",
       "      <td>0</td>\n",
       "      <td>0</td>\n",
       "      <td>1</td>\n",
       "    </tr>\n",
       "    <tr>\n",
       "      <th>0</th>\n",
       "      <td>39</td>\n",
       "      <td>0</td>\n",
       "      <td>1</td>\n",
       "      <td>0</td>\n",
       "    </tr>\n",
       "    <tr>\n",
       "      <th>1</th>\n",
       "      <td>3</td>\n",
       "      <td>17</td>\n",
       "      <td>0</td>\n",
       "      <td>80</td>\n",
       "    </tr>\n",
       "    <tr>\n",
       "      <th>2</th>\n",
       "      <td>3</td>\n",
       "      <td>3</td>\n",
       "      <td>0</td>\n",
       "      <td>23</td>\n",
       "    </tr>\n",
       "  </tbody>\n",
       "</table>\n",
       "</div>"
      ],
      "text/plain": [
       "PYT_2  -2  -1   1   2\n",
       "PYT_1                \n",
       "-2     13   0   1   0\n",
       "-1     16   0   0   1\n",
       " 0     39   0   1   0\n",
       " 1      3  17   0  80\n",
       " 2      3   3   0  23"
      ]
     },
     "execution_count": 19,
     "metadata": {},
     "output_type": "execute_result"
    }
   ],
   "source": [
    "crosstab6 = pd.crosstab(df['PYT_1'], \n",
    "                            df['PYT_2'],  \n",
    "                               margins = False) \n",
    "crosstab6"
   ]
  },
  {
   "cell_type": "code",
   "execution_count": 20,
   "metadata": {},
   "outputs": [
    {
     "data": {
      "text/html": [
       "<div>\n",
       "<style scoped>\n",
       "    .dataframe tbody tr th:only-of-type {\n",
       "        vertical-align: middle;\n",
       "    }\n",
       "\n",
       "    .dataframe tbody tr th {\n",
       "        vertical-align: top;\n",
       "    }\n",
       "\n",
       "    .dataframe thead th {\n",
       "        text-align: right;\n",
       "    }\n",
       "</style>\n",
       "<table border=\"1\" class=\"dataframe\">\n",
       "  <thead>\n",
       "    <tr style=\"text-align: right;\">\n",
       "      <th></th>\n",
       "      <th>DZIAŁ</th>\n",
       "      <th>STAŻ</th>\n",
       "      <th>CZY_KIER</th>\n",
       "      <th>PYT_1</th>\n",
       "      <th>PYT_2</th>\n",
       "      <th>PYT_3</th>\n",
       "      <th>PŁEĆ</th>\n",
       "      <th>WIEK</th>\n",
       "      <th>WIEK_KAT</th>\n",
       "      <th>CZY_ZADOW</th>\n",
       "    </tr>\n",
       "  </thead>\n",
       "  <tbody>\n",
       "    <tr>\n",
       "      <th>0</th>\n",
       "      <td>IT</td>\n",
       "      <td>2</td>\n",
       "      <td>Nie</td>\n",
       "      <td>1</td>\n",
       "      <td>-2</td>\n",
       "      <td>1</td>\n",
       "      <td>M</td>\n",
       "      <td>64</td>\n",
       "      <td>55 &lt;</td>\n",
       "      <td>NIE</td>\n",
       "    </tr>\n",
       "    <tr>\n",
       "      <th>1</th>\n",
       "      <td>IT</td>\n",
       "      <td>2</td>\n",
       "      <td>Nie</td>\n",
       "      <td>0</td>\n",
       "      <td>-2</td>\n",
       "      <td>-2</td>\n",
       "      <td>M</td>\n",
       "      <td>67</td>\n",
       "      <td>55 &lt;</td>\n",
       "      <td>NIE</td>\n",
       "    </tr>\n",
       "    <tr>\n",
       "      <th>2</th>\n",
       "      <td>IT</td>\n",
       "      <td>2</td>\n",
       "      <td>Nie</td>\n",
       "      <td>1</td>\n",
       "      <td>2</td>\n",
       "      <td>2</td>\n",
       "      <td>M</td>\n",
       "      <td>65</td>\n",
       "      <td>55 &lt;</td>\n",
       "      <td>TAK</td>\n",
       "    </tr>\n",
       "    <tr>\n",
       "      <th>3</th>\n",
       "      <td>IT</td>\n",
       "      <td>2</td>\n",
       "      <td>Nie</td>\n",
       "      <td>-1</td>\n",
       "      <td>-2</td>\n",
       "      <td>-2</td>\n",
       "      <td>K</td>\n",
       "      <td>68</td>\n",
       "      <td>55 &lt;</td>\n",
       "      <td>NIE</td>\n",
       "    </tr>\n",
       "    <tr>\n",
       "      <th>4</th>\n",
       "      <td>IT</td>\n",
       "      <td>3</td>\n",
       "      <td>Tak</td>\n",
       "      <td>1</td>\n",
       "      <td>2</td>\n",
       "      <td>-1</td>\n",
       "      <td>K</td>\n",
       "      <td>65</td>\n",
       "      <td>55 &lt;</td>\n",
       "      <td>TAK</td>\n",
       "    </tr>\n",
       "    <tr>\n",
       "      <th>...</th>\n",
       "      <td>...</td>\n",
       "      <td>...</td>\n",
       "      <td>...</td>\n",
       "      <td>...</td>\n",
       "      <td>...</td>\n",
       "      <td>...</td>\n",
       "      <td>...</td>\n",
       "      <td>...</td>\n",
       "      <td>...</td>\n",
       "      <td>...</td>\n",
       "    </tr>\n",
       "    <tr>\n",
       "      <th>195</th>\n",
       "      <td>HR</td>\n",
       "      <td>2</td>\n",
       "      <td>Nie</td>\n",
       "      <td>1</td>\n",
       "      <td>2</td>\n",
       "      <td>2</td>\n",
       "      <td>M</td>\n",
       "      <td>42</td>\n",
       "      <td>od 36 do 45</td>\n",
       "      <td>TAK</td>\n",
       "    </tr>\n",
       "    <tr>\n",
       "      <th>196</th>\n",
       "      <td>HR</td>\n",
       "      <td>2</td>\n",
       "      <td>Nie</td>\n",
       "      <td>1</td>\n",
       "      <td>-1</td>\n",
       "      <td>-1</td>\n",
       "      <td>K</td>\n",
       "      <td>35</td>\n",
       "      <td>&lt; 36</td>\n",
       "      <td>NIE</td>\n",
       "    </tr>\n",
       "    <tr>\n",
       "      <th>197</th>\n",
       "      <td>HR</td>\n",
       "      <td>2</td>\n",
       "      <td>Nie</td>\n",
       "      <td>-1</td>\n",
       "      <td>-2</td>\n",
       "      <td>-2</td>\n",
       "      <td>K</td>\n",
       "      <td>39</td>\n",
       "      <td>od 36 do 45</td>\n",
       "      <td>NIE</td>\n",
       "    </tr>\n",
       "    <tr>\n",
       "      <th>198</th>\n",
       "      <td>HR</td>\n",
       "      <td>2</td>\n",
       "      <td>Nie</td>\n",
       "      <td>1</td>\n",
       "      <td>2</td>\n",
       "      <td>1</td>\n",
       "      <td>K</td>\n",
       "      <td>48</td>\n",
       "      <td>od 46 do 55</td>\n",
       "      <td>TAK</td>\n",
       "    </tr>\n",
       "    <tr>\n",
       "      <th>199</th>\n",
       "      <td>HR</td>\n",
       "      <td>2</td>\n",
       "      <td>Nie</td>\n",
       "      <td>1</td>\n",
       "      <td>2</td>\n",
       "      <td>2</td>\n",
       "      <td>K</td>\n",
       "      <td>42</td>\n",
       "      <td>od 36 do 45</td>\n",
       "      <td>TAK</td>\n",
       "    </tr>\n",
       "  </tbody>\n",
       "</table>\n",
       "<p>200 rows × 10 columns</p>\n",
       "</div>"
      ],
      "text/plain": [
       "    DZIAŁ  STAŻ CZY_KIER  PYT_1  PYT_2  PYT_3 PŁEĆ  WIEK     WIEK_KAT  \\\n",
       "0      IT     2      Nie      1     -2      1    M    64         55 <   \n",
       "1      IT     2      Nie      0     -2     -2    M    67         55 <   \n",
       "2      IT     2      Nie      1      2      2    M    65         55 <   \n",
       "3      IT     2      Nie     -1     -2     -2    K    68         55 <   \n",
       "4      IT     3      Tak      1      2     -1    K    65         55 <   \n",
       "..    ...   ...      ...    ...    ...    ...  ...   ...          ...   \n",
       "195    HR     2      Nie      1      2      2    M    42  od 36 do 45   \n",
       "196    HR     2      Nie      1     -1     -1    K    35         < 36   \n",
       "197    HR     2      Nie     -1     -2     -2    K    39  od 36 do 45   \n",
       "198    HR     2      Nie      1      2      1    K    48  od 46 do 55   \n",
       "199    HR     2      Nie      1      2      2    K    42  od 36 do 45   \n",
       "\n",
       "    CZY_ZADOW  \n",
       "0         NIE  \n",
       "1         NIE  \n",
       "2         TAK  \n",
       "3         NIE  \n",
       "4         TAK  \n",
       "..        ...  \n",
       "195       TAK  \n",
       "196       NIE  \n",
       "197       NIE  \n",
       "198       TAK  \n",
       "199       TAK  \n",
       "\n",
       "[200 rows x 10 columns]"
      ]
     },
     "execution_count": 20,
     "metadata": {},
     "output_type": "execute_result"
    }
   ],
   "source": [
    "df.loc[df['PYT_2'] <= -1, 'CZY_ZADOW'] = 'NIE'\n",
    "df.loc[df['PYT_2'] >= 1, 'CZY_ZADOW'] = 'TAK'\n",
    "\n",
    "df"
   ]
  },
  {
   "cell_type": "code",
   "execution_count": 21,
   "metadata": {},
   "outputs": [
    {
     "data": {
      "image/png": "[encoded data removed]",
      "text/plain": [
       "<Figure size 640x480 with 3 Axes>"
      ]
     },
     "metadata": {},
     "output_type": "display_data"
    }
   ],
   "source": [
    "from statsmodels.graphics.mosaicplot import mosaic\n",
    "mosaic(df, ['CZY_ZADOW', 'DZIAŁ'])\n",
    "plt.show()"
   ]
  },
  {
   "cell_type": "code",
   "execution_count": 22,
   "metadata": {},
   "outputs": [
    {
     "data": {
      "image/png": "[encoded data removed]",
      "text/plain": [
       "<Figure size 640x480 with 3 Axes>"
      ]
     },
     "metadata": {},
     "output_type": "display_data"
    }
   ],
   "source": [
    "mosaic(df, ['CZY_ZADOW', 'STAŻ'])\n",
    "plt.show()"
   ]
  },
  {
   "cell_type": "code",
   "execution_count": 23,
   "metadata": {},
   "outputs": [
    {
     "data": {
      "image/png": "[encoded data removed]",
      "text/plain": [
       "<Figure size 640x480 with 3 Axes>"
      ]
     },
     "metadata": {},
     "output_type": "display_data"
    }
   ],
   "source": [
    "mosaic(df, ['CZY_ZADOW', 'CZY_KIER'])\n",
    "plt.show()"
   ]
  },
  {
   "cell_type": "code",
   "execution_count": 24,
   "metadata": {},
   "outputs": [
    {
     "data": {
      "image/png": "[encoded data removed]",
      "text/plain": [
       "<Figure size 640x480 with 3 Axes>"
      ]
     },
     "metadata": {},
     "output_type": "display_data"
    }
   ],
   "source": [
    "mosaic(df, ['CZY_ZADOW', 'PŁEĆ'])\n",
    "plt.show()"
   ]
  },
  {
   "cell_type": "code",
   "execution_count": 25,
   "metadata": {},
   "outputs": [
    {
     "data": {
      "image/png": "[encoded data removed]",
      "text/plain": [
       "<Figure size 640x480 with 3 Axes>"
      ]
     },
     "metadata": {},
     "output_type": "display_data"
    }
   ],
   "source": [
    "mosaic(df, ['CZY_ZADOW', 'WIEK_KAT'])\n",
    "plt.show()"
   ]
  },
  {
   "cell_type": "markdown",
   "metadata": {},
   "source": [
    "# CZĘŚĆ II"
   ]
  },
  {
   "cell_type": "markdown",
   "metadata": {},
   "source": [
    "# ZAD 1"
   ]
  },
  {
   "cell_type": "code",
   "execution_count": 26,
   "metadata": {},
   "outputs": [
    {
     "data": {
      "text/html": [
       "<div>\n",
       "<style scoped>\n",
       "    .dataframe tbody tr th:only-of-type {\n",
       "        vertical-align: middle;\n",
       "    }\n",
       "\n",
       "    .dataframe tbody tr th {\n",
       "        vertical-align: top;\n",
       "    }\n",
       "\n",
       "    .dataframe thead th {\n",
       "        text-align: right;\n",
       "    }\n",
       "</style>\n",
       "<table border=\"1\" class=\"dataframe\">\n",
       "  <thead>\n",
       "    <tr style=\"text-align: right;\">\n",
       "      <th>PYT_1</th>\n",
       "      <th>-2</th>\n",
       "      <th>-1</th>\n",
       "      <th>0</th>\n",
       "      <th>1</th>\n",
       "      <th>2</th>\n",
       "    </tr>\n",
       "  </thead>\n",
       "  <tbody>\n",
       "    <tr>\n",
       "      <th>count</th>\n",
       "      <td>14</td>\n",
       "      <td>17</td>\n",
       "      <td>40</td>\n",
       "      <td>100</td>\n",
       "      <td>29</td>\n",
       "    </tr>\n",
       "  </tbody>\n",
       "</table>\n",
       "</div>"
      ],
      "text/plain": [
       "PYT_1  -2  -1   0    1   2\n",
       "count  14  17  40  100  29"
      ]
     },
     "execution_count": 26,
     "metadata": {},
     "output_type": "execute_result"
    }
   ],
   "source": [
    "pd.DataFrame(table_pyt1).sort_values(\"PYT_1\").transpose()\n"
   ]
  },
  {
   "cell_type": "code",
   "execution_count": 27,
   "metadata": {},
   "outputs": [
    {
     "data": {
      "text/html": [
       "<div>\n",
       "<style scoped>\n",
       "    .dataframe tbody tr th:only-of-type {\n",
       "        vertical-align: middle;\n",
       "    }\n",
       "\n",
       "    .dataframe tbody tr th {\n",
       "        vertical-align: top;\n",
       "    }\n",
       "\n",
       "    .dataframe thead th {\n",
       "        text-align: right;\n",
       "    }\n",
       "</style>\n",
       "<table border=\"1\" class=\"dataframe\">\n",
       "  <thead>\n",
       "    <tr style=\"text-align: right;\">\n",
       "      <th>PYT_1</th>\n",
       "      <th>-2</th>\n",
       "      <th>-1</th>\n",
       "      <th>0</th>\n",
       "      <th>1</th>\n",
       "      <th>2</th>\n",
       "    </tr>\n",
       "    <tr>\n",
       "      <th>CZY_KIER</th>\n",
       "      <th></th>\n",
       "      <th></th>\n",
       "      <th></th>\n",
       "      <th></th>\n",
       "      <th></th>\n",
       "    </tr>\n",
       "  </thead>\n",
       "  <tbody>\n",
       "    <tr>\n",
       "      <th>Nie</th>\n",
       "      <td>10</td>\n",
       "      <td>14</td>\n",
       "      <td>34</td>\n",
       "      <td>88</td>\n",
       "      <td>27</td>\n",
       "    </tr>\n",
       "    <tr>\n",
       "      <th>Tak</th>\n",
       "      <td>4</td>\n",
       "      <td>3</td>\n",
       "      <td>6</td>\n",
       "      <td>12</td>\n",
       "      <td>2</td>\n",
       "    </tr>\n",
       "  </tbody>\n",
       "</table>\n",
       "</div>"
      ],
      "text/plain": [
       "PYT_1     -2  -1   0   1   2\n",
       "CZY_KIER                    \n",
       "Nie       10  14  34  88  27\n",
       "Tak        4   3   6  12   2"
      ]
     },
     "execution_count": 27,
     "metadata": {},
     "output_type": "execute_result"
    }
   ],
   "source": [
    "\n",
    "from plot_likert import plot_likert\n",
    "df_pivot = df.pivot_table(index=\"CZY_KIER\", columns=\"PYT_1\", aggfunc=\"size\", fill_value=0)\n",
    "df_pivot"
   ]
  },
  {
   "cell_type": "markdown",
   "metadata": {},
   "source": [
    "# ZAD 2"
   ]
  },
  {
   "cell_type": "code",
   "execution_count": 28,
   "metadata": {},
   "outputs": [
    {
     "name": "stderr",
     "output_type": "stream",
     "text": [
      "/Users/karolcieslik/Documents/VS/.conda/lib/python3.12/site-packages/plot_likert/plot_likert.py:257: FutureWarning: DataFrame.applymap has been deprecated. Use DataFrame.map instead.\n",
      "  df.applymap(validate)\n",
      "/Users/karolcieslik/Documents/VS/.conda/lib/python3.12/site-packages/plot_likert/plot_likert.py:310: FutureWarning: Series.__getitem__ treating keys as positions is deprecated. In a future version, integer keys will always be treated as labels (consistent with DataFrame behavior). To access a value by position, use `ser.iloc[pos]`\n",
      "  responses_to_first_question = responses_per_question[0]\n"
     ]
    },
    {
     "data": {
      "image/png": "[encoded data removed]",
      "text/plain": [
       "<Figure size 1000x300 with 1 Axes>"
      ]
     },
     "metadata": {},
     "output_type": "display_data"
    }
   ],
   "source": [
    "import plot_likert\n",
    "scale = ['-2', '-1', '0', '1', '2']\n",
    "ax = plot_likert.plot_likert(df['PYT_1'].astype(str), scale, plot_percentage=True, figsize=(10,3),\n",
    "                        bar_labels=True, bar_labels_color=\"snow\", colors=plot_likert.colors.default_with_darker_neutral)\n",
    "plt.title('Rozkład odpowiedzi na PYT_1 w podziale na CZY_KIER')\n",
    "\n",
    "ax.xaxis.set_label_text('% odpowiedzi')\n",
    "plt.show()"
   ]
  },
  {
   "cell_type": "code",
   "execution_count": 29,
   "metadata": {},
   "outputs": [
    {
     "name": "stderr",
     "output_type": "stream",
     "text": [
      "/Users/karolcieslik/Documents/VS/.conda/lib/python3.12/site-packages/plot_likert/plot_likert.py:257: FutureWarning: DataFrame.applymap has been deprecated. Use DataFrame.map instead.\n",
      "  df.applymap(validate)\n",
      "/Users/karolcieslik/Documents/VS/.conda/lib/python3.12/site-packages/plot_likert/plot_likert.py:310: FutureWarning: Series.__getitem__ treating keys as positions is deprecated. In a future version, integer keys will always be treated as labels (consistent with DataFrame behavior). To access a value by position, use `ser.iloc[pos]`\n",
      "  responses_to_first_question = responses_per_question[0]\n"
     ]
    },
    {
     "data": {
      "image/png": "[encoded data removed]",
      "text/plain": [
       "<Figure size 1000x300 with 1 Axes>"
      ]
     },
     "metadata": {},
     "output_type": "display_data"
    }
   ],
   "source": [
    "df_czy_kier_tak = df[df['CZY_KIER'] == \"Nie\"]\n",
    "\n",
    "ax = plot_likert.plot_likert(df_czy_kier_tak['PYT_1'].astype(str), scale, plot_percentage=True, figsize=(10,3),\n",
    "                        bar_labels=True, bar_labels_color=\"snow\", colors=plot_likert.colors.default_with_darker_neutral)\n",
    "plt.title('Rozkład odpowiedzi na PYT_1 dla CZY_KIER = Nie')\n",
    "\n",
    "ax.xaxis.set_label_text('% odpowiedzi')\n",
    "plt.show()"
   ]
  },
  {
   "cell_type": "code",
   "execution_count": 30,
   "metadata": {},
   "outputs": [
    {
     "name": "stderr",
     "output_type": "stream",
     "text": [
      "/Users/karolcieslik/Documents/VS/.conda/lib/python3.12/site-packages/plot_likert/plot_likert.py:257: FutureWarning: DataFrame.applymap has been deprecated. Use DataFrame.map instead.\n",
      "  df.applymap(validate)\n",
      "/Users/karolcieslik/Documents/VS/.conda/lib/python3.12/site-packages/plot_likert/plot_likert.py:310: FutureWarning: Series.__getitem__ treating keys as positions is deprecated. In a future version, integer keys will always be treated as labels (consistent with DataFrame behavior). To access a value by position, use `ser.iloc[pos]`\n",
      "  responses_to_first_question = responses_per_question[0]\n"
     ]
    },
    {
     "data": {
      "image/png": "[encoded data removed]",
      "text/plain": [
       "<Figure size 1000x300 with 1 Axes>"
      ]
     },
     "metadata": {},
     "output_type": "display_data"
    }
   ],
   "source": [
    "df_czy_kier_tak = df[df['CZY_KIER'] == \"Tak\"]\n",
    "\n",
    "ax = plot_likert.plot_likert(df_czy_kier_tak['PYT_1'].astype(str), scale, plot_percentage=True, figsize=(10,3),\n",
    "                        bar_labels=True, bar_labels_color=\"snow\", colors=plot_likert.colors.default_with_darker_neutral)\n",
    "plt.title('Rozkład odpowiedzi na PYT_1 dla CZY_KIER = Tak')\n",
    "\n",
    "ax.xaxis.set_label_text('% odpowiedzi')\n",
    "plt.show()"
   ]
  },
  {
   "cell_type": "markdown",
   "metadata": {},
   "source": [
    "# ZAD 3"
   ]
  },
  {
   "cell_type": "code",
   "execution_count": 31,
   "metadata": {},
   "outputs": [
    {
     "name": "stdout",
     "output_type": "stream",
     "text": [
      "Liczba wierszy w oryginalnym zbiorze: 200. Unikalnych: 188\n",
      "\n",
      "Liczba wierszy w próbie bez zwracania: 20\n",
      "Liczba unikalnych wierszy w próbie bez zwracania: 20\n",
      "\n",
      "Liczba wierszy w próbie ze zwracaniem: 20\n",
      "Liczba unikalnych wierszy w próbie ze zwracaniem: 20\n"
     ]
    }
   ],
   "source": [
    "import numpy as np\n",
    "\n",
    "sample_size = int(len(df) * 0.1)\n",
    "\n",
    "indices_without_replacement = np.random.choice(df.index, size=sample_size, replace=False)\n",
    "sample_without_replacement = df.loc[indices_without_replacement]\n",
    "\n",
    "indices_with_replacement = np.random.choice(df.index, size=sample_size, replace=True)\n",
    "sample_with_replacement = df.loc[indices_with_replacement]\n",
    "\n",
    "print(f\"Liczba wierszy w oryginalnym zbiorze: {len(df)}. Unikalnych: {len(df.drop_duplicates())}\")\n",
    "print(\"\")\n",
    "print(f\"Liczba wierszy w próbie bez zwracania: {len(sample_without_replacement)}\")\n",
    "print(f\"Liczba unikalnych wierszy w próbie bez zwracania: {len(sample_without_replacement.drop_duplicates())}\")\n",
    "print(\"\")\n",
    "print(f\"Liczba wierszy w próbie ze zwracaniem: {len(sample_with_replacement)}\")\n",
    "print(f\"Liczba unikalnych wierszy w próbie ze zwracaniem: {len(sample_with_replacement.drop_duplicates())}\")"
   ]
  },
  {
   "cell_type": "markdown",
   "metadata": {},
   "source": [
    "# ZAD 4"
   ]
  },
  {
   "cell_type": "code",
   "execution_count": 32,
   "metadata": {},
   "outputs": [
    {
     "data": {
      "text/plain": [
       "59"
      ]
     },
     "execution_count": 32,
     "metadata": {},
     "output_type": "execute_result"
    }
   ],
   "source": [
    "def function_1(n, p):\n",
    "    random_numbers = np.random.uniform(0, 1, n)\n",
    "    results = [\"0\" if x < p else \"1\" for x in random_numbers]\n",
    "    count_ones = results.count(\"1\")\n",
    "    \n",
    "    return count_ones\n",
    "\n",
    "n = 100\n",
    "p = 0.5\n",
    "\n",
    "function_1(n, p)\n"
   ]
  },
  {
   "cell_type": "code",
   "execution_count": 33,
   "metadata": {},
   "outputs": [
    {
     "data": {
      "text/plain": [
       "array([510, 480, 499, 511, 524, 499, 508, 507, 496, 485, 467, 498, 487,\n",
       "       491, 502, 492, 522, 517, 494, 486, 493, 513, 484, 514, 512, 529,\n",
       "       483, 491, 486, 494, 495, 498, 500, 500, 524, 492, 508, 512, 488,\n",
       "       510])"
      ]
     },
     "execution_count": 33,
     "metadata": {},
     "output_type": "execute_result"
    }
   ],
   "source": [
    "def function_2(n, p, N):\n",
    "    # Tworzymy wektor długości N wypełniony zerami\n",
    "    success_counts = np.zeros(N, dtype=int)\n",
    "    \n",
    "    # Wykonujemy function_1 N razy\n",
    "    for i in range(N):\n",
    "        success_counts[i] = function_1(n, p)\n",
    "    \n",
    "    return success_counts\n",
    "\n",
    "n = 1000\n",
    "p = 0.5\n",
    "N = 40\n",
    "\n",
    "function_2(n, p, N)"
   ]
  },
  {
   "cell_type": "code",
   "execution_count": 34,
   "metadata": {},
   "outputs": [
    {
     "name": "stdout",
     "output_type": "stream",
     "text": [
      "Teoretyczna wartość oczekiwana (E): 500.0\n",
      "Empiryczna wartość oczekiwana (E): 499.4\n",
      "Teoretyczna wariancja (Var): 250.0\n",
      "Empiryczna wariancja (Var): 202.34000000000003\n"
     ]
    }
   ],
   "source": [
    "W = function_2(n, p, N)\n",
    "x = sum(W)\n",
    "\n",
    "E_theoretical = n * p\n",
    "Var_theoretical = n * p * (1 - p)\n",
    "\n",
    "E_empirical = np.mean(W)\n",
    "Var_empirical = np.var(W)\n",
    "\n",
    "print(f\"Teoretyczna wartość oczekiwana (E): {E_theoretical}\")\n",
    "print(f\"Empiryczna wartość oczekiwana (E): {E_empirical}\")\n",
    "\n",
    "print(f\"Teoretyczna wariancja (Var): {Var_theoretical}\")\n",
    "print(f\"Empiryczna wariancja (Var): {Var_empirical}\")"
   ]
  },
  {
   "cell_type": "markdown",
   "metadata": {},
   "source": [
    "# ZAD 5"
   ]
  },
  {
   "cell_type": "code",
   "execution_count": 35,
   "metadata": {},
   "outputs": [
    {
     "data": {
      "text/plain": [
       "array([30., 31., 39.])"
      ]
     },
     "execution_count": 35,
     "metadata": {},
     "output_type": "execute_result"
    }
   ],
   "source": [
    "import bisect\n",
    "def func1(n,ps,x):\n",
    "    random_numbers = np.random.uniform(0, 1, n)\n",
    "    cum_prob = np.cumsum(ps)\n",
    "    result = np.zeros(len(x))\n",
    "    for num in random_numbers:\n",
    "        idx = bisect.bisect(cum_prob, num)\n",
    "        result[idx] += 1\n",
    "    \n",
    "    return result\n",
    "\n",
    "n = 100\n",
    "p = [0.3,0.3,0.4]\n",
    "x = [0,1,2]\n",
    "\n",
    "func1(n, p, x)"
   ]
  },
  {
   "cell_type": "code",
   "execution_count": 36,
   "metadata": {},
   "outputs": [
    {
     "data": {
      "text/plain": [
       "array([[27., 27., 46.],\n",
       "       [28., 34., 38.],\n",
       "       [37., 31., 32.],\n",
       "       ...,\n",
       "       [26., 21., 53.],\n",
       "       [32., 25., 43.],\n",
       "       [26., 29., 45.]], shape=(1000, 3))"
      ]
     },
     "execution_count": 36,
     "metadata": {},
     "output_type": "execute_result"
    }
   ],
   "source": [
    "def func2(n, p, N, x):\n",
    "    success_counts = np.zeros((N, len(x))) \n",
    "\n",
    "    for i in range(N):\n",
    "        success_counts[i] = func1(n, p, x)\n",
    "    \n",
    "    return success_counts\n",
    "\n",
    "n = 100\n",
    "p = [0.3,0.3,0.4]\n",
    "x = [0,1,2]\n",
    "N = 1000\n",
    "\n",
    "func2(n, p, N, x)"
   ]
  },
  {
   "cell_type": "code",
   "execution_count": 37,
   "metadata": {},
   "outputs": [],
   "source": [
    "sample = func2(n,p,N,x)\n",
    "E_teo_multinom = [n * p_ for p_ in p]\n",
    "E_emp_multinom = np.mean(sample, axis=0)\n"
   ]
  },
  {
   "cell_type": "code",
   "execution_count": 38,
   "metadata": {},
   "outputs": [
    {
     "name": "stdout",
     "output_type": "stream",
     "text": [
      "Teoretyczna wartość oczekiwana (E): [30.0, 30.0, 40.0]\n",
      "Empiryczna wartość oczekiwana (E): [30.101 30.232 39.667]\n"
     ]
    }
   ],
   "source": [
    "print(f\"Teoretyczna wartość oczekiwana (E): {E_teo_multinom}\")\n",
    "print(f\"Empiryczna wartość oczekiwana (E): {E_emp_multinom}\")"
   ]
  },
  {
   "cell_type": "markdown",
   "metadata": {},
   "source": [
    "\"wyznaczamy realizację przedziału ufności\"\n"
   ]
  },
  {
   "cell_type": "markdown",
   "metadata": {},
   "source": [
    "# ZAD 6\n"
   ]
  },
  {
   "cell_type": "code",
   "execution_count": 39,
   "metadata": {},
   "outputs": [],
   "source": [
    "from scipy.stats import beta\n",
    "\n",
    "\n",
    "def clopper_pearson(alfa, sukces=0, proba=0, dane=[]):\n",
    "    if (len(dane) > 0):\n",
    "        sukces = np.sum(dane)\n",
    "        proba = len(dane)\n",
    "\n",
    "    lower_bound = beta.ppf(alfa / 2, sukces, proba - sukces + 1)\n",
    "    upper_bound = beta.ppf(1 - alfa / 2, sukces + 1, proba - sukces)\n",
    "\n",
    "    return lower_bound, upper_bound"
   ]
  },
  {
   "cell_type": "markdown",
   "metadata": {},
   "source": [
    "Przykład użycia"
   ]
  },
  {
   "cell_type": "code",
   "execution_count": 40,
   "metadata": {},
   "outputs": [
    {
     "data": {
      "text/plain": [
       "(np.float64(0.2124064204895366), np.float64(0.39981467617980426))"
      ]
     },
     "execution_count": 40,
     "metadata": {},
     "output_type": "execute_result"
    }
   ],
   "source": [
    "\n",
    "alfa = 0.05\n",
    "sukcesy = 30\n",
    "proby = 100\n",
    "\n",
    "przedzial = clopper_pearson(alfa, sukcesy, proby)\n",
    "przedzial"
   ]
  },
  {
   "cell_type": "code",
   "execution_count": 41,
   "metadata": {},
   "outputs": [
    {
     "data": {
      "text/plain": [
       "(np.float64(0.18606642229074064), np.float64(0.3680162729089749))"
      ]
     },
     "execution_count": 41,
     "metadata": {},
     "output_type": "execute_result"
    }
   ],
   "source": [
    "dane_przykladowe = np.random.choice([0, 1], size=100, p=[0.7, 0.3])\n",
    "\n",
    "przedzial = clopper_pearson(alfa, dane=dane_przykladowe)\n",
    "przedzial"
   ]
  },
  {
   "cell_type": "markdown",
   "metadata": {},
   "source": [
    "# ZAD 7"
   ]
  },
  {
   "cell_type": "code",
   "execution_count": 42,
   "metadata": {},
   "outputs": [
    {
     "name": "stdout",
     "output_type": "stream",
     "text": [
      "   PYT_2  PYT_3  CZY_ZADW  CZY_ZADW_2\n",
      "0     -2      1       0.0         1.0\n",
      "1     -2     -2       0.0         0.0\n",
      "2      2      2       1.0         1.0\n",
      "3     -2     -2       0.0         0.0\n",
      "4      2     -1       1.0         0.0\n"
     ]
    }
   ],
   "source": [
    "df.loc[df['PYT_2'] <= -1, 'CZY_ZADW'] = 0\n",
    "df.loc[df['PYT_2'] >= 1, 'CZY_ZADW'] = 1\n",
    "\n",
    "df.loc[df['PYT_3'] <= -1, 'CZY_ZADW_2'] = 0\n",
    "df.loc[df['PYT_3'] >= 1, 'CZY_ZADW_2'] = 1\n",
    "\n",
    "print(df[['PYT_2', 'PYT_3', 'CZY_ZADW', 'CZY_ZADW_2']].head())"
   ]
  },
  {
   "cell_type": "code",
   "execution_count": 43,
   "metadata": {},
   "outputs": [],
   "source": [
    "alfa = 0.05  \n",
    "\n",
    "przedzial_pyt_2 = clopper_pearson(alfa, dane=df[\"CZY_ZADW\"])\n",
    "przedzial_pyt_3 = clopper_pearson(alfa, dane=df[\"CZY_ZADW_2\"])"
   ]
  },
  {
   "cell_type": "code",
   "execution_count": 44,
   "metadata": {},
   "outputs": [
    {
     "data": {
      "text/plain": [
       "(np.float64(0.45833050041147494), np.float64(0.6007670588028856))"
      ]
     },
     "execution_count": 44,
     "metadata": {},
     "output_type": "execute_result"
    }
   ],
   "source": [
    "przedzial_pyt_2"
   ]
  },
  {
   "cell_type": "code",
   "execution_count": 45,
   "metadata": {},
   "outputs": [
    {
     "data": {
      "text/plain": [
       "(np.float64(0.5184215852127789), np.float64(0.6588693543285322))"
      ]
     },
     "execution_count": 45,
     "metadata": {},
     "output_type": "execute_result"
    }
   ],
   "source": [
    "przedzial_pyt_3"
   ]
  },
  {
   "cell_type": "markdown",
   "metadata": {},
   "source": [
    "# ZAD 8"
   ]
  },
  {
   "cell_type": "markdown",
   "metadata": {},
   "source": [
    "Rozkład dwumianowy $B(n,p)$ modeluje liczbę sukcesów w $n$ niezależnych próbach Bernoulliego, gdzie prawdopodobieństwo sukcesu wynosi $p$.\n",
    "\n",
    "W Pythonie generujemy wartości z tego rozkładu za pomocą funkcji `np.random.binomial(n, p, size)` z biblioteki NumPy\n",
    "\n",
    "```python\n",
    "np.random.binomial(n, p, size=None)\n",
    "```\n",
    "\n",
    "Funkcja przyjmuje następujące argumenty:\n",
    "- $n$: liczba prób (np. liczba rzutów monetą),\n",
    "- $p$: prawdopodobieństwo sukcesu w jednej próbie,\n",
    "- $size$: liczba generowanych wartości (np. symulacje).\n",
    "\n",
    "Przykład realizacji jednej wartości"
   ]
  },
  {
   "cell_type": "code",
   "execution_count": 64,
   "metadata": {},
   "outputs": [
    {
     "name": "stdout",
     "output_type": "stream",
     "text": [
      "Wynik pojedynczej symulacji: 5\n"
     ]
    }
   ],
   "source": [
    "wynik_1 = np.random.binomial(n=10, p=0.5)\n",
    "print(f\"Wynik pojedynczej symulacji: {wynik_1}\")"
   ]
  },
  {
   "cell_type": "markdown",
   "metadata": {},
   "source": [
    "Przykład dla wielu realizacji; średnia powinna być bliska $EX$, czyli $10 * 0.5 = 5$"
   ]
  },
  {
   "cell_type": "code",
   "execution_count": null,
   "metadata": {},
   "outputs": [
    {
     "name": "stdout",
     "output_type": "stream",
     "text": [
      "Średnia liczba sukcesów w 1000 eksperymentach: 4.916\n"
     ]
    }
   ],
   "source": [
    "wyniki_1000 = np.random.binomial(n=10, p=0.5, size=1000)\n",
    "\n",
    "print(f\"Średnia liczba sukcesów w 1000 eksperymentach: {np.mean(wyniki_1000)}\")"
   ]
  },
  {
   "cell_type": "markdown",
   "metadata": {},
   "source": [
    "Przedział ufności dla parametru p rozkładu dwumianowego możemy wyznaczyć za pomocą metody proportion_confint(k, n, method='binom_test', alpha) z modułu statsmodels.stats.propotion.\n",
    "\n",
    "Argumenty:\n",
    "\n",
    " - liczba sukcesów\n",
    " - liczba prób\n",
    " - rozważany rozkład, w naszym przypadku dwumianowy (binom_test)\n",
    " - poziom ufności"
   ]
  },
  {
   "cell_type": "code",
   "execution_count": 66,
   "metadata": {},
   "outputs": [],
   "source": [
    "from statsmodels.stats.proportion import proportion_confint"
   ]
  },
  {
   "cell_type": "code",
   "execution_count": 77,
   "metadata": {},
   "outputs": [
    {
     "name": "stdout",
     "output_type": "stream",
     "text": [
      "Przedział ufności dla próbki z B(10, 0.5) na poziomie ufności α = 0.05:\n",
      " I = (0.2224411010076423, 0.7775588989919017)\n"
     ]
    }
   ],
   "source": [
    "przedzial_ufnosci = proportion_confint(wynik_1, 10, 0.05,\"binom_test\")\n",
    "\n",
    "print(f\"Przedział ufności dla próbki z B(10, 0.5) na poziomie ufności α = 0.05:\\n I = {przedzial_ufnosci}\")"
   ]
  },
  {
   "cell_type": "markdown",
   "metadata": {},
   "source": [
    "# ZAD 9"
   ]
  },
  {
   "cell_type": "code",
   "execution_count": 84,
   "metadata": {},
   "outputs": [],
   "source": [
    "import numpy as np\n",
    "import matplotlib.pyplot as plt\n",
    "from scipy.stats import norm, binom"
   ]
  },
  {
   "cell_type": "code",
   "execution_count": 90,
   "metadata": {},
   "outputs": [
    {
     "data": {
      "image/png": "[encoded data removed]",
      "text/plain": [
       "<Figure size 1200x500 with 2 Axes>"
      ]
     },
     "metadata": {},
     "output_type": "display_data"
    }
   ],
   "source": [
    "\n",
    "\n",
    "def wald(sample, alpha):\n",
    "    n = len(sample)\n",
    "    p_estim = np.mean(sample)\n",
    "    se = np.sqrt(p_estim * (1 - p_estim) / n)\n",
    "    margin = norm.ppf(1 - alpha / 2) * se\n",
    "    return max(0, p_estim - margin), min(1, p_estim + margin)\n",
    "\n",
    "def wilson(sample, alpha):\n",
    "    n = len(sample)\n",
    "    p_estim = np.mean(sample)\n",
    "    q = norm.ppf(1 - alpha / 2)\n",
    "    center = p_estim + (q**2 / (2 * n))\n",
    "    denom = 1 + (q**2 / n)\n",
    "    margin = q * np.sqrt((p_estim * (1 - p_estim) / n) + (q**2 / (4 * n**2)))\n",
    "    return max(0, (center - margin) / denom), min(1, (center + margin) / denom)\n",
    "\n",
    "def clopper_pearson(sample, alpha):\n",
    "    n = len(sample)\n",
    "    x = np.sum(sample)\n",
    "    lower = binom.ppf(alpha / 2, n, x / n) / n if x > 0 else 0\n",
    "    upper = binom.ppf(1 - alpha / 2, n, x / n) / n if x < n else 1\n",
    "    return lower, upper\n",
    "\n",
    "ns = [30, 100, 1000]\n",
    "ps = [0.2, 0.5, 0.8]\n",
    "alpha = 0.05\n",
    "mc = 1000\n",
    "\n",
    "coverage = {\"Wald\": [], \"Wilson\": [], \"Clopper-Pearson\": []}\n",
    "lengths = {\"Wald\": [], \"Wilson\": [], \"Clopper-Pearson\": []}\n",
    "\n",
    "for n in ns:\n",
    "    for p in ps:\n",
    "        wald_cover, wilson_cover, cp_cover = 0, 0, 0\n",
    "        wald_len, wilson_len, cp_len = 0, 0, 0\n",
    "        \n",
    "        for _ in range(mc):\n",
    "            sample = np.random.binomial(1, p, n)\n",
    "            wald_ci = wald(sample, alpha)\n",
    "            wilson_ci = wilson(sample, alpha)\n",
    "            cp_ci = clopper_pearson(sample, alpha)\n",
    "            \n",
    "            wald_cover += wald_ci[0] <= p <= wald_ci[1]\n",
    "            wilson_cover += wilson_ci[0] <= p <= wilson_ci[1]\n",
    "            cp_cover += cp_ci[0] <= p <= cp_ci[1]\n",
    "            \n",
    "            wald_len += wald_ci[1] - wald_ci[0]\n",
    "            wilson_len += wilson_ci[1] - wilson_ci[0]\n",
    "            cp_len += cp_ci[1] - cp_ci[0]\n",
    "        \n",
    "        coverage[\"Wald\"].append(wald_cover / mc)\n",
    "        coverage[\"Wilson\"].append(wilson_cover / mc)\n",
    "        coverage[\"Clopper-Pearson\"].append(cp_cover / mc)\n",
    "        \n",
    "        lengths[\"Wald\"].append(wald_len / mc)\n",
    "        lengths[\"Wilson\"].append(wilson_len / mc)\n",
    "        lengths[\"Clopper-Pearson\"].append(cp_len / mc)\n",
    "\n",
    "# Rysowanie wykresów\n",
    "fig, ax = plt.subplots(1, 2, figsize=(12, 5))\n",
    "\n",
    "# Prawdopodobieństwo pokrycia\n",
    "for method in coverage:\n",
    "    ax[0].plot(range(len(coverage[method])), coverage[method], label=method, marker='o')\n",
    "ax[0].set_title(\"Prawdopodobieństwo pokrycia\")\n",
    "ax[0].set_xlabel(\"Kombinacje (n, p)\")\n",
    "ax[0].set_ylabel(\"Pokrycie\")\n",
    "ax[0].legend()\n",
    "ax[0].grid()\n",
    "\n",
    "# Średnia długość przedziału\n",
    "for method in lengths:\n",
    "    ax[1].plot(range(len(lengths[method])), lengths[method], label=method, marker='o')\n",
    "ax[1].set_title(\"Średnia długość przedziału\")\n",
    "ax[1].set_xlabel(\"Kombinacje (n, p)\")\n",
    "ax[1].set_ylabel(\"Długość\")\n",
    "ax[1].legend()\n",
    "ax[1].grid()\n",
    "\n",
    "plt.show()"
   ]
  },
  {
   "cell_type": "markdown",
   "metadata": {},
   "source": [
    "# ZAD 10\n"
   ]
  },
  {
   "cell_type": "code",
   "execution_count": 94,
   "metadata": {},
   "outputs": [],
   "source": [
    "import scipy.stats as stats\n",
    "import statsmodels.stats.proportion as smp\n"
   ]
  },
  {
   "cell_type": "code",
   "execution_count": 95,
   "metadata": {},
   "outputs": [],
   "source": [
    "def test_binomial_proportion(k, n, p0=0.5):\n",
    "    \"\"\"\n",
    "    Wykonuje test dokładny (binomtest) i test asymptotyczny (proportions_ztest)\n",
    "    dla proporcji sukcesów w rozkładzie dwumianowym.\n",
    "    \n",
    "    Parametry:\n",
    "        k  - liczba sukcesów\n",
    "        n  - liczba prób\n",
    "        p0 - hipotezowane prawdopodobieństwo sukcesu (domyślnie 0.5)\n",
    "    \n",
    "    Zwraca:\n",
    "        Słownik z wynikami testów\n",
    "    \"\"\"\n",
    "    # Test dokładny (binomtest)\n",
    "    binom_test = stats.binomtest(k, n, p=p0, alternative='two-sided')\n",
    "    \n",
    "    # Test asymptotyczny (Z-test dla proporcji)\n",
    "    z_stat, p_value_ztest = smp.proportions_ztest(count=k, nobs=n, value=p0, alternative='two-sided')\n",
    "    \n",
    "    return {\n",
    "        \"binomtest_pvalue\": binom_test.pvalue,\n",
    "        \"z_stat\": z_stat,\n",
    "        \"ztest_pvalue\": p_value_ztest\n",
    "    }"
   ]
  },
  {
   "cell_type": "code",
   "execution_count": null,
   "metadata": {},
   "outputs": [
    {
     "name": "stdout",
     "output_type": "stream",
     "text": [
      "Wyniki testów:\n",
      "Test dokładny (binomtest) - wartość p: 0.3682\n",
      "Test asymptotyczny (Z-test) - statystyka Z: -1.0050\n",
      "Test asymptotyczny (Z-test) - wartość p: 0.3149\n"
     ]
    }
   ],
   "source": [
    "\n",
    "if __name__ == \"__main__\":\n",
    "    k = 45   # liczba sukcesów\n",
    "    n = 100  # liczba prób\n",
    "    p0 = 0.5 # hipoteza zerowa\n",
    "    \n",
    "    results = test_binomial_proportion(k, n, p0)\n",
    "    \n",
    "    print(\"Wyniki testów:\")\n",
    "    print(f\"Test dokładny (binomtest) - wartość p: {results['binomtest_pvalue']:.4f}\")\n",
    "    print(f\"Test asymptotyczny (Z-test) - statystyka Z: {results['z_stat']:.4f}\")\n",
    "    print(f\"Test asymptotyczny (Z-test) - wartość p: {results['ztest_pvalue']:.4f}\")"
   ]
  },
  {
   "cell_type": "markdown",
   "metadata": {},
   "source": [
    "# Zad Dodatkowe"
   ]
  },
  {
   "cell_type": "code",
   "execution_count": 92,
   "metadata": {},
   "outputs": [
    {
     "name": "stdout",
     "output_type": "stream",
     "text": [
      "{'delta_method': (np.float64(0.2184030369347906), np.float64(0.3966127925180066)), 'statsmodels_wilson': (0.21894885294932756, 0.39584854633346667)}\n"
     ]
    }
   ],
   "source": [
    "import numpy as np\n",
    "import scipy.stats as stats\n",
    "\n",
    "def logit_ci(x, n, alpha=0.05):\n",
    "    \"\"\"Oblicza asymptotyczny przedział ufności dla prawdopodobieństwa sukcesu za pomocą transformacji logit i metody delta.\"\"\"\n",
    "    # Estymator prawdopodobieństwa sukcesu\n",
    "    p_hat = x / n\n",
    "    \n",
    "    # Transformacja logit\n",
    "    theta_hat = np.log(p_hat / (1 - p_hat))\n",
    "    \n",
    "    # Odchylenie standardowe wg metody delta\n",
    "    se_theta = np.sqrt(1 / (n * p_hat * (1 - p_hat)))\n",
    "    \n",
    "    # Kwartyl rozkładu normalnego\n",
    "    z = stats.norm.ppf(1 - alpha / 2)\n",
    "    \n",
    "    # Granice przedziału ufności dla theta\n",
    "    theta_lower = theta_hat - z * se_theta\n",
    "    theta_upper = theta_hat + z * se_theta\n",
    "    \n",
    "    # Powrót do przestrzeni prawdopodobieństwa\n",
    "    p_lower = np.exp(theta_lower) / (1 + np.exp(theta_lower))\n",
    "    p_upper = np.exp(theta_upper) / (1 + np.exp(theta_upper))\n",
    "    \n",
    "    return p_lower, p_upper\n",
    "\n",
    "# Porównanie z funkcją wbudowaną z statsmodels (Wilson)\n",
    "def compare_with_statsmodels(x, n, alpha=0.05):\n",
    "    import statsmodels.stats.proportion as smp\n",
    "    \n",
    "    p_lower_delta, p_upper_delta = logit_ci(x, n, alpha)\n",
    "    p_lower_sm, p_upper_sm = smp.proportion_confint(x, n, alpha=alpha, method='wilson')\n",
    "    \n",
    "    return {'delta_method': (p_lower_delta, p_upper_delta), 'statsmodels_wilson': (p_lower_sm, p_upper_sm)}\n",
    "\n",
    "# Przykładowe dane\n",
    "test_x, test_n = 30, 100\n",
    "print(compare_with_statsmodels(test_x, test_n))"
   ]
  },
  {
   "cell_type": "code",
   "execution_count": null,
   "metadata": {},
   "outputs": [],
   "source": []
  }
 ],
 "metadata": {
  "kernelspec": {
   "display_name": "Python 3",
   "language": "python",
   "name": "python3"
  },
  "language_info": {
   "codemirror_mode": {
    "name": "ipython",
    "version": 3
   },
   "file_extension": ".py",
   "mimetype": "text/x-python",
   "name": "python",
   "nbconvert_exporter": "python",
   "pygments_lexer": "ipython3",
   "version": "3.12.8"
  }
 },
 "nbformat": 4,
 "nbformat_minor": 2
}
